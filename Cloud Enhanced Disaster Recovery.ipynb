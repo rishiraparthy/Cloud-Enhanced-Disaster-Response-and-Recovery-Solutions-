{
 "cells": [
  {
   "cell_type": "markdown",
   "id": "05787a9f",
   "metadata": {},
   "source": [
    "# CLOUD ENHANCED DISASTER RECOVERY AND RESPONSE\n",
    "\n",
    "We are leveraging cloud computing and artificial intelligence to mitigate response times during natural disasters, and this tool could prove instrumental in achieving that objective.\n",
    "\n",
    "This code utilizes PySpark, a Python library for Apache Spark, to perform predictive modeling on a dataset related to natural disasters. Specifically, it employs machine learning algorithms, including Decision Trees, Random Forests, and Logistic Regression, to predict the type of natural disaster events based on various features such as magnitude, casualties, duration, and response time.\n",
    "\n",
    "Explanation of the code:\n",
    "1. **Data Loading:** The SparkSession is used to read a CSV file containing information about natural disasters, such as EventType, Location, DateTime, Magnitude, Casualties, etc.\n",
    "\n",
    "\n",
    "2. **Data Preprocessing:** StringIndexer is applied to convert the \"EventType\" column into numerical labels, and a VectorAssembler is used to create a feature vector.\n",
    "\n",
    "3. **Model Training and Evaluation:** Decision Tree, Random Forest, and Logistic Regression models are trained and evaluated on the dataset.\n",
    "\n",
    "4. **Random Forest Cross-Validation:** A Random Forest model is fine-tuned using cross-validation to enhance its performance.\n",
    "\n",
    "5. **User Interface (UI):** A simple UI is created using IPython widgets, allowing users to input values for magnitude, casualties, duration, and response time. When the \"Predict\" button is clicked, the trained Random Forest model predicts the event type based on the user input.\n",
    "\n",
    "6. **Model Evaluation Metrics:** The accuracy of the models (Decision Tree, Random Forest, Logistic Regression, and Cross-Validated Random Forest) is printed.\n",
    "\n",
    "The provided dataset contains information about various natural disasters, including their type, location, date and time, magnitude, casualties, evacuation details, property damage, duration, response time, warnings issued, and the information source.\n",
    "\n",
    "Why it's important:\n",
    "- **Disaster Response Optimization:** By predicting the type of natural disasters, emergency response efforts can be optimized, leading to quicker and more effective interventions.\n",
    "- **Resource Allocation:** Knowing the type and potential impact of a disaster helps in allocating resources, personnel, and equipment more efficiently.\n",
    "- **Early Warning Systems:** Predictive models contribute to the development of early warning systems, enabling authorities to issue timely warnings to the affected population.\n",
    "- **Reducing Response Time:** Minimizing the response time during disasters can save lives, reduce casualties, and mitigate property damage.\n",
    "\n",
    "In summary, this tool, based on predictive modeling, is crucial for enhancing disaster response strategies and minimizing the impact of natural disasters on communities."
   ]
  },
  {
   "cell_type": "code",
   "execution_count": 1,
   "id": "db7874c3",
   "metadata": {},
   "outputs": [
    {
     "name": "stderr",
     "output_type": "stream",
     "text": [
      "Setting default log level to \"WARN\".\n",
      "To adjust logging level use sc.setLogLevel(newLevel). For SparkR, use setLogLevel(newLevel).\n",
      "23/12/04 17:38:46 WARN NativeCodeLoader: Unable to load native-hadoop library for your platform... using builtin-java classes where applicable\n",
      "                                                                                \r"
     ]
    }
   ],
   "source": [
    "from pyspark.sql import SparkSession\n",
    "\n",
    "from pyspark.sql import SparkSession\n",
    "from pyspark.ml.feature import StringIndexer, VectorAssembler\n",
    "from pyspark.ml import Pipeline\n",
    "from pyspark.ml.classification import RandomForestClassifier\n",
    "from pyspark.ml.evaluation import MulticlassClassificationEvaluator\n",
    "\n",
    "spark = SparkSession.builder.appName(\"DisasterResponsePrediction\").getOrCreate()\n",
    "data_path = \"/Users/harikavajha/Downloads/Cloud/weather.csv\"\n",
    "df = spark.read.csv(data_path, header=True, inferSchema=True)"
   ]
  },
  {
   "cell_type": "code",
   "execution_count": 2,
   "id": "15007fca",
   "metadata": {
    "scrolled": false
   },
   "outputs": [
    {
     "name": "stdout",
     "output_type": "stream",
     "text": [
      "root\n",
      " |-- EventType: integer (nullable = true)\n",
      " |-- Location: string (nullable = true)\n",
      " |-- DateTime: timestamp (nullable = true)\n",
      " |-- Magnitude: double (nullable = true)\n",
      " |-- Casualties: integer (nullable = true)\n",
      " |-- Evacuation: integer (nullable = true)\n",
      " |-- PropertyDamage: string (nullable = true)\n",
      " |-- Duration: integer (nullable = true)\n",
      " |-- ResponseTime: double (nullable = true)\n",
      " |-- WarningsIssued: integer (nullable = true)\n",
      " |-- Source: string (nullable = true)\n",
      "\n",
      "+---------+--------------------+--------------------+---------+----------+----------+----------------+--------+------------+--------------+--------------------+\n",
      "|EventType|            Location|            DateTime|Magnitude|Casualties|Evacuation|  PropertyDamage|Duration|ResponseTime|WarningsIssued|              Source|\n",
      "+---------+--------------------+--------------------+---------+----------+----------+----------------+--------+------------+--------------+--------------------+\n",
      "|        4|    Seanfort, Guinea|2021-03-11 02:20:...|      0.0|       319|         0|$1270000 million|      51|        14.8|             0|Meteorological Se...|\n",
      "|        1|South Cynthia, My...|2023-06-30 10:56:...|      4.6|       335|         0|$3530000 million|      27|        22.3|             1|                USGS|\n",
      "|        5|North Diane, Lao ...|2021-08-01 08:51:...|      0.0|       226|         1|$3910000 million|      59|        6.84|             0|                 NWS|\n",
      "|        2|South Courtneyfur...|2023-01-16 11:23:...|      4.0|       146|         0|$4320000 million|      55|       10.76|             1|                 WMO|\n",
      "|        5|Port Jennifer, Nepal|2023-06-08 14:42:...|      0.0|        68|         1|$1600000 million|      42|        2.92|             1|Storm Prediction ...|\n",
      "+---------+--------------------+--------------------+---------+----------+----------+----------------+--------+------------+--------------+--------------------+\n",
      "only showing top 5 rows\n",
      "\n"
     ]
    }
   ],
   "source": [
    "df.printSchema()\n",
    "df.show(5)"
   ]
  },
  {
   "cell_type": "code",
   "execution_count": 3,
   "id": "49f87ac2",
   "metadata": {},
   "outputs": [
    {
     "name": "stderr",
     "output_type": "stream",
     "text": [
      "                                                                                \r"
     ]
    },
    {
     "name": "stdout",
     "output_type": "stream",
     "text": [
      "+---------+-----+\n",
      "|EventType|label|\n",
      "+---------+-----+\n",
      "|        4|  4.0|\n",
      "|        5|  1.0|\n",
      "|        1|  2.0|\n",
      "|        2|  3.0|\n",
      "|        3|  0.0|\n",
      "+---------+-----+\n",
      "\n"
     ]
    }
   ],
   "source": [
    "# Import necessary libraries\n",
    "from pyspark.ml.feature import StringIndexer\n",
    "\n",
    "# Create a StringIndexer for EventType\n",
    "event_indexer = StringIndexer(inputCol=\"EventType\", outputCol=\"label\")\n",
    "df_indexed = event_indexer.fit(df).transform(df)\n",
    "\n",
    "# Verify the transformation\n",
    "df_indexed.select(\"EventType\", \"label\").distinct().show()\n",
    "\n",
    "# Continue with the rest of the code..."
   ]
  },
  {
   "cell_type": "code",
   "execution_count": 4,
   "id": "030a29ee",
   "metadata": {},
   "outputs": [
    {
     "name": "stdout",
     "output_type": "stream",
     "text": [
      "Decision Tree Accuracy: 0.6463414634146342\n"
     ]
    }
   ],
   "source": [
    "from pyspark.ml.feature import VectorAssembler\n",
    "from pyspark.ml.classification import DecisionTreeClassifier\n",
    "from pyspark.ml import Pipeline\n",
    "\n",
    "# Assuming df is your DataFrame\n",
    "assembler = VectorAssembler(inputCols=['Magnitude', 'Casualties', 'Duration', 'ResponseTime'], outputCol='features')\n",
    "dt = DecisionTreeClassifier(labelCol='EventType', featuresCol='features')\n",
    "\n",
    "pipeline = Pipeline(stages=[assembler, dt])\n",
    "\n",
    "# Split the data into training and testing sets\n",
    "(trainingData, testData) = df.randomSplit([0.8, 0.2], seed=42)\n",
    "\n",
    "# Train the model\n",
    "model = pipeline.fit(trainingData)\n",
    "\n",
    "# Make predictions on the test data\n",
    "predictions = model.transform(testData)\n",
    "\n",
    "# Evaluate the model\n",
    "from pyspark.ml.evaluation import MulticlassClassificationEvaluator\n",
    "evaluator = MulticlassClassificationEvaluator(labelCol='EventType', predictionCol='prediction', metricName='accuracy')\n",
    "accuracy = evaluator.evaluate(predictions)\n",
    "print(f\"Decision Tree Accuracy: {accuracy}\")\n",
    "\n"
   ]
  },
  {
   "cell_type": "code",
   "execution_count": 5,
   "id": "1a3566df",
   "metadata": {},
   "outputs": [
    {
     "name": "stdout",
     "output_type": "stream",
     "text": [
      "Random Forest Accuracy: 0.5853658536585366\n"
     ]
    }
   ],
   "source": [
    "from pyspark.ml.classification import RandomForestClassifier\n",
    "\n",
    "# Replace the DecisionTreeClassifier with RandomForestClassifier\n",
    "rf = RandomForestClassifier(labelCol='EventType', featuresCol='features', numTrees=100)\n",
    "\n",
    "pipeline_rf = Pipeline(stages=[assembler, rf])\n",
    "\n",
    "# Train the Random Forest model\n",
    "model_rf = pipeline_rf.fit(trainingData)\n",
    "\n",
    "# Make predictions on the test data\n",
    "predictions_rf = model_rf.transform(testData)\n",
    "\n",
    "# Evaluate the Random Forest model\n",
    "accuracy_rf = evaluator.evaluate(predictions_rf)\n",
    "print(f\"Random Forest Accuracy: {accuracy_rf}\")\n"
   ]
  },
  {
   "cell_type": "code",
   "execution_count": 6,
   "id": "900991cb",
   "metadata": {},
   "outputs": [
    {
     "name": "stderr",
     "output_type": "stream",
     "text": [
      "23/12/04 17:39:11 WARN InstanceBuilder: Failed to load implementation from:dev.ludovic.netlib.blas.JNIBLAS\n"
     ]
    },
    {
     "name": "stdout",
     "output_type": "stream",
     "text": [
      "Logistic Regression Accuracy: 0.43902439024390244\n"
     ]
    }
   ],
   "source": [
    "from pyspark.ml.classification import LogisticRegression\n",
    "from pyspark.ml import Pipeline\n",
    "from pyspark.ml.feature import VectorAssembler\n",
    "from pyspark.ml.evaluation import MulticlassClassificationEvaluator\n",
    "\n",
    "# Assuming df is your DataFrame\n",
    "assembler = VectorAssembler(inputCols=['Magnitude', 'Casualties', 'Duration', 'ResponseTime'], outputCol='features')\n",
    "lr = LogisticRegression(labelCol='EventType', featuresCol='features', maxIter=10, regParam=0.3, elasticNetParam=0.8)\n",
    "\n",
    "pipeline = Pipeline(stages=[assembler, lr])\n",
    "\n",
    "# Split the data into training and testing sets\n",
    "(trainingData, testData) = df.randomSplit([0.8, 0.2], seed=42)\n",
    "\n",
    "# Train the model\n",
    "model_lr = pipeline.fit(trainingData)\n",
    "\n",
    "# Make predictions on the test data\n",
    "predictions_lr = model_lr.transform(testData)\n",
    "\n",
    "# Evaluate the model\n",
    "evaluator_lr = MulticlassClassificationEvaluator(labelCol='EventType', predictionCol='prediction', metricName='accuracy')\n",
    "accuracy_lr = evaluator_lr.evaluate(predictions_lr)\n",
    "print(f\"Logistic Regression Accuracy: {accuracy_lr}\")\n"
   ]
  },
  {
   "cell_type": "code",
   "execution_count": 7,
   "id": "b90d5eb8",
   "metadata": {
    "scrolled": false
   },
   "outputs": [
    {
     "name": "stdout",
     "output_type": "stream",
     "text": [
      "Random Forest Cross-Validation Accuracy: 0.6951219512195121\n"
     ]
    }
   ],
   "source": [
    "from pyspark.ml.tuning import ParamGridBuilder, CrossValidator\n",
    "\n",
    "# Assuming df is your DataFrame\n",
    "assembler = VectorAssembler(inputCols=['Magnitude', 'Casualties', 'Duration', 'ResponseTime'], outputCol='features')\n",
    "rf = RandomForestClassifier(labelCol='EventType', featuresCol='features')\n",
    "\n",
    "pipeline = Pipeline(stages=[assembler, rf])\n",
    "\n",
    "# Define a parameter grid\n",
    "paramGrid = ParamGridBuilder().addGrid(rf.numTrees, [10, 20, 30]).build()\n",
    "\n",
    "# Create cross-validator\n",
    "crossval = CrossValidator(estimator=pipeline,\n",
    "                          estimatorParamMaps=paramGrid,\n",
    "                          evaluator=MulticlassClassificationEvaluator(labelCol='EventType', predictionCol='prediction', metricName='accuracy'),\n",
    "                          numFolds=3)  # You can adjust the number of folds\n",
    "\n",
    "# Fit the model\n",
    "cv_model = crossval.fit(trainingData)\n",
    "\n",
    "# Make predictions on the test data\n",
    "predictions_cv = cv_model.transform(testData)\n",
    "\n",
    "# Evaluate the model\n",
    "evaluator_cv = MulticlassClassificationEvaluator(labelCol='EventType', predictionCol='prediction', metricName='accuracy')\n",
    "accuracy_cv = evaluator_cv.evaluate(predictions_cv)\n",
    "print(f\"Random Forest Cross-Validation Accuracy: {accuracy_cv}\")\n"
   ]
  },
  {
   "cell_type": "markdown",
   "id": "25541ba7",
   "metadata": {},
   "source": [
    "### MODEL ARCHITECTURE: \n",
    "\n",
    "  \n",
    "\n",
    "Our model architecture integrates cloud computing and artificial intelligence, specifically leveraging PySpark for efficient distributed data processing with Apache Spark. The objective is to minimize response times during natural disasters. \n",
    "\n",
    "  \n",
    "\n",
    "PySpark for Distributed Data Processing: \n",
    "\n",
    "  \n",
    "\n",
    "Leveraging PySpark, we harnessed the power of Apache Spark for efficient distributed data processing. Spark's distributed computing capabilities enabled seamless handling of our extensive natural disaster dataset. \n",
    "\n",
    "  \n",
    "\n",
    "#### Event Prediction Model: \n",
    "\n",
    "  \n",
    "\n",
    "1. Decision Tree and Random Forest: \n",
    "\n",
    "   - Created separate models using Decision Trees and Random Forest for predicting the type of natural disaster events. \n",
    "\n",
    "   - Decision Trees provide interpretability, while Random Forest enhances prediction accuracy through an ensemble approach. \n",
    "\n",
    "  \n",
    "\n",
    "2. Logistic Regression: \n",
    "\n",
    "   - Employed Logistic Regression for probabilistic classification of event types. \n",
    "\n",
    "   - This model offers insights into the likelihood of specific disaster types based on input features. \n",
    "   \n",
    "#### Response Time Prediction Model: \n",
    "\n",
    "  \n",
    "\n",
    "1. Random Forest Regressor: \n",
    "\n",
    "   - Developed a distinct model using Random Forest for predicting response times associated with natural disasters. \n",
    "\n",
    "   - Utilized regression capabilities to estimate response times as a continuous variable. \n",
    "\n",
    "  \n",
    "\n",
    "Model Evaluation: \n",
    "\n",
    "  \n",
    "\n",
    "1. Event Prediction Accuracy: \n",
    "\n",
    "   - Assessed the accuracy of the Decision Tree, Random Forest, and Logistic Regression models. \n",
    "\n",
    "   - Accuracy metrics highlight the models' ability to correctly predict the type of natural disaster events. \n",
    "\n",
    "  \n",
    "\n",
    "2. Response Time Prediction - Root Mean Square Error (RMSE): \n",
    "\n",
    "   - Evaluated the performance of the Response Time Prediction model using the RMSE metric. \n",
    "\n",
    "   - RMSE measures the difference between predicted and observed response times, providing an indication of prediction accuracy. "
   ]
  },
  {
   "cell_type": "code",
   "execution_count": 8,
   "id": "8c7c971a",
   "metadata": {
    "scrolled": false
   },
   "outputs": [
    {
     "data": {
      "application/vnd.jupyter.widget-view+json": {
       "model_id": "38bd9a4e72ee4a0db61279bf51dfa12e",
       "version_major": 2,
       "version_minor": 0
      },
      "text/plain": [
       "FloatSlider(value=5.6, description='Magnitude', max=10.0, style=SliderStyle(handle_color='pink'))"
      ]
     },
     "metadata": {},
     "output_type": "display_data"
    },
    {
     "data": {
      "application/vnd.jupyter.widget-view+json": {
       "model_id": "c4b7b16a9451486db8191ee45de80271",
       "version_major": 2,
       "version_minor": 0
      },
      "text/plain": [
       "IntSlider(value=10, description='Casualties', style=SliderStyle(handle_color='red'))"
      ]
     },
     "metadata": {},
     "output_type": "display_data"
    },
    {
     "data": {
      "application/vnd.jupyter.widget-view+json": {
       "model_id": "7014fe89f91b4685a89af78ebb02a78b",
       "version_major": 2,
       "version_minor": 0
      },
      "text/plain": [
       "IntSlider(value=30, description='Duration', style=SliderStyle(handle_color='purple'))"
      ]
     },
     "metadata": {},
     "output_type": "display_data"
    },
    {
     "data": {
      "application/vnd.jupyter.widget-view+json": {
       "model_id": "9232d5c180414f0589b1be7f3cea3c78",
       "version_major": 2,
       "version_minor": 0
      },
      "text/plain": [
       "IntSlider(value=15, description='ResTime', style=SliderStyle(handle_color='black'))"
      ]
     },
     "metadata": {},
     "output_type": "display_data"
    },
    {
     "data": {
      "application/vnd.jupyter.widget-view+json": {
       "model_id": "fa1dc9f563c44ef5a7fc2b8453698c9c",
       "version_major": 2,
       "version_minor": 0
      },
      "text/plain": [
       "Button(description='Predict', style=ButtonStyle(button_color='lightblue'))"
      ]
     },
     "metadata": {},
     "output_type": "display_data"
    },
    {
     "name": "stdout",
     "output_type": "stream",
     "text": [
      "Predicted Event Type: Earthquake\n"
     ]
    },
    {
     "name": "stderr",
     "output_type": "stream",
     "text": [
      "23/12/04 19:11:46 WARN Executor: Issue communicating with driver in heartbeater\n",
      "org.apache.spark.SparkException: Exception thrown in awaitResult: \n",
      "\tat org.apache.spark.util.SparkThreadUtils$.awaitResult(SparkThreadUtils.scala:56)\n",
      "\tat org.apache.spark.util.ThreadUtils$.awaitResult(ThreadUtils.scala:310)\n",
      "\tat org.apache.spark.rpc.RpcTimeout.awaitResult(RpcTimeout.scala:75)\n",
      "\tat org.apache.spark.rpc.RpcEndpointRef.askSync(RpcEndpointRef.scala:101)\n",
      "\tat org.apache.spark.rpc.RpcEndpointRef.askSync(RpcEndpointRef.scala:85)\n",
      "\tat org.apache.spark.storage.BlockManagerMaster.registerBlockManager(BlockManagerMaster.scala:80)\n",
      "\tat org.apache.spark.storage.BlockManager.reregister(BlockManager.scala:642)\n",
      "\tat org.apache.spark.executor.Executor.reportHeartBeat(Executor.scala:1223)\n",
      "\tat org.apache.spark.executor.Executor.$anonfun$heartbeater$1(Executor.scala:295)\n",
      "\tat scala.runtime.java8.JFunction0$mcV$sp.apply(JFunction0$mcV$sp.java:23)\n",
      "\tat org.apache.spark.util.Utils$.logUncaughtExceptions(Utils.scala:1928)\n",
      "\tat org.apache.spark.Heartbeater$$anon$1.run(Heartbeater.scala:46)\n",
      "\tat java.util.concurrent.Executors$RunnableAdapter.call(Executors.java:511)\n",
      "\tat java.util.concurrent.FutureTask.runAndReset(FutureTask.java:308)\n",
      "\tat java.util.concurrent.ScheduledThreadPoolExecutor$ScheduledFutureTask.access$301(ScheduledThreadPoolExecutor.java:180)\n",
      "\tat java.util.concurrent.ScheduledThreadPoolExecutor$ScheduledFutureTask.run(ScheduledThreadPoolExecutor.java:294)\n",
      "\tat java.util.concurrent.ThreadPoolExecutor.runWorker(ThreadPoolExecutor.java:1149)\n",
      "\tat java.util.concurrent.ThreadPoolExecutor$Worker.run(ThreadPoolExecutor.java:624)\n",
      "\tat java.lang.Thread.run(Thread.java:750)\n",
      "Caused by: org.apache.spark.SparkException: Exception thrown in awaitResult: \n",
      "\tat org.apache.spark.util.SparkThreadUtils$.awaitResult(SparkThreadUtils.scala:56)\n",
      "\tat org.apache.spark.util.ThreadUtils$.awaitResult(ThreadUtils.scala:310)\n",
      "\tat org.apache.spark.rpc.RpcTimeout.awaitResult(RpcTimeout.scala:75)\n",
      "\tat org.apache.spark.rpc.RpcEnv.setupEndpointRefByURI(RpcEnv.scala:102)\n",
      "\tat org.apache.spark.rpc.RpcEnv.setupEndpointRef(RpcEnv.scala:110)\n",
      "\tat org.apache.spark.util.RpcUtils$.makeDriverRef(RpcUtils.scala:36)\n",
      "\tat org.apache.spark.storage.BlockManagerMasterEndpoint.driverEndpoint$lzycompute(BlockManagerMasterEndpoint.scala:124)\n",
      "\tat org.apache.spark.storage.BlockManagerMasterEndpoint.org$apache$spark$storage$BlockManagerMasterEndpoint$$driverEndpoint(BlockManagerMasterEndpoint.scala:123)\n",
      "\tat org.apache.spark.storage.BlockManagerMasterEndpoint.isExecutorAlive$lzycompute$1(BlockManagerMasterEndpoint.scala:688)\n",
      "\tat org.apache.spark.storage.BlockManagerMasterEndpoint.isExecutorAlive$1(BlockManagerMasterEndpoint.scala:687)\n",
      "\tat org.apache.spark.storage.BlockManagerMasterEndpoint.org$apache$spark$storage$BlockManagerMasterEndpoint$$register(BlockManagerMasterEndpoint.scala:725)\n",
      "\tat org.apache.spark.storage.BlockManagerMasterEndpoint$$anonfun$receiveAndReply$1.applyOrElse(BlockManagerMasterEndpoint.scala:133)\n",
      "\tat org.apache.spark.rpc.netty.Inbox.$anonfun$process$1(Inbox.scala:103)\n",
      "\tat org.apache.spark.rpc.netty.Inbox.safelyCall(Inbox.scala:213)\n",
      "\tat org.apache.spark.rpc.netty.Inbox.process(Inbox.scala:100)\n",
      "\tat org.apache.spark.rpc.netty.MessageLoop.org$apache$spark$rpc$netty$MessageLoop$$receiveLoop(MessageLoop.scala:75)\n",
      "\tat org.apache.spark.rpc.netty.MessageLoop$$anon$1.run(MessageLoop.scala:41)\n",
      "\t... 3 more\n",
      "Caused by: org.apache.spark.rpc.RpcEndpointNotFoundException: Cannot find endpoint: spark://CoarseGrainedScheduler@harikas-mbp.lan:51494\n",
      "\tat org.apache.spark.rpc.netty.NettyRpcEnv.$anonfun$asyncSetupEndpointRefByURI$1(NettyRpcEnv.scala:148)\n",
      "\tat org.apache.spark.rpc.netty.NettyRpcEnv.$anonfun$asyncSetupEndpointRefByURI$1$adapted(NettyRpcEnv.scala:144)\n",
      "\tat scala.concurrent.Future.$anonfun$flatMap$1(Future.scala:307)\n",
      "\tat scala.concurrent.impl.Promise.$anonfun$transformWith$1(Promise.scala:41)\n",
      "\tat scala.concurrent.impl.CallbackRunnable.run(Promise.scala:64)\n",
      "\tat org.apache.spark.util.ThreadUtils$$anon$1.execute(ThreadUtils.scala:99)\n",
      "\tat scala.concurrent.impl.ExecutionContextImpl$$anon$4.execute(ExecutionContextImpl.scala:138)\n",
      "\tat scala.concurrent.impl.CallbackRunnable.executeWithValue(Promise.scala:72)\n",
      "\tat scala.concurrent.impl.Promise$DefaultPromise.dispatchOrAddCallback(Promise.scala:316)\n",
      "\tat scala.concurrent.impl.Promise$DefaultPromise.onComplete(Promise.scala:307)\n",
      "\tat scala.concurrent.impl.Promise.transformWith(Promise.scala:40)\n",
      "\tat scala.concurrent.impl.Promise.transformWith$(Promise.scala:38)\n",
      "\tat scala.concurrent.impl.Promise$DefaultPromise.transformWith(Promise.scala:187)\n",
      "\tat scala.concurrent.Future.flatMap(Future.scala:306)\n",
      "\tat scala.concurrent.Future.flatMap$(Future.scala:306)\n",
      "\tat scala.concurrent.impl.Promise$DefaultPromise.flatMap(Promise.scala:187)\n",
      "\tat org.apache.spark.rpc.netty.NettyRpcEnv.asyncSetupEndpointRefByURI(NettyRpcEnv.scala:150)\n",
      "\t... 17 more\n",
      "23/12/04 19:11:46 ERROR Inbox: Ignoring error\n",
      "org.apache.spark.SparkException: Exception thrown in awaitResult: \n",
      "\tat org.apache.spark.util.SparkThreadUtils$.awaitResult(SparkThreadUtils.scala:56)\n",
      "\tat org.apache.spark.util.ThreadUtils$.awaitResult(ThreadUtils.scala:310)\n",
      "\tat org.apache.spark.rpc.RpcTimeout.awaitResult(RpcTimeout.scala:75)\n",
      "\tat org.apache.spark.rpc.RpcEnv.setupEndpointRefByURI(RpcEnv.scala:102)\n",
      "\tat org.apache.spark.rpc.RpcEnv.setupEndpointRef(RpcEnv.scala:110)\n",
      "\tat org.apache.spark.util.RpcUtils$.makeDriverRef(RpcUtils.scala:36)\n",
      "\tat org.apache.spark.storage.BlockManagerMasterEndpoint.driverEndpoint$lzycompute(BlockManagerMasterEndpoint.scala:124)\n",
      "\tat org.apache.spark.storage.BlockManagerMasterEndpoint.org$apache$spark$storage$BlockManagerMasterEndpoint$$driverEndpoint(BlockManagerMasterEndpoint.scala:123)\n",
      "\tat org.apache.spark.storage.BlockManagerMasterEndpoint.isExecutorAlive$lzycompute$1(BlockManagerMasterEndpoint.scala:688)\n",
      "\tat org.apache.spark.storage.BlockManagerMasterEndpoint.isExecutorAlive$1(BlockManagerMasterEndpoint.scala:687)\n",
      "\tat org.apache.spark.storage.BlockManagerMasterEndpoint.org$apache$spark$storage$BlockManagerMasterEndpoint$$register(BlockManagerMasterEndpoint.scala:725)\n",
      "\tat org.apache.spark.storage.BlockManagerMasterEndpoint$$anonfun$receiveAndReply$1.applyOrElse(BlockManagerMasterEndpoint.scala:133)\n",
      "\tat org.apache.spark.rpc.netty.Inbox.$anonfun$process$1(Inbox.scala:103)\n",
      "\tat org.apache.spark.rpc.netty.Inbox.safelyCall(Inbox.scala:213)\n",
      "\tat org.apache.spark.rpc.netty.Inbox.process(Inbox.scala:100)\n",
      "\tat org.apache.spark.rpc.netty.MessageLoop.org$apache$spark$rpc$netty$MessageLoop$$receiveLoop(MessageLoop.scala:75)\n",
      "\tat org.apache.spark.rpc.netty.MessageLoop$$anon$1.run(MessageLoop.scala:41)\n",
      "\tat java.util.concurrent.ThreadPoolExecutor.runWorker(ThreadPoolExecutor.java:1149)\n",
      "\tat java.util.concurrent.ThreadPoolExecutor$Worker.run(ThreadPoolExecutor.java:624)\n",
      "\tat java.lang.Thread.run(Thread.java:750)\n",
      "Caused by: org.apache.spark.rpc.RpcEndpointNotFoundException: Cannot find endpoint: spark://CoarseGrainedScheduler@harikas-mbp.lan:51494\n",
      "\tat org.apache.spark.rpc.netty.NettyRpcEnv.$anonfun$asyncSetupEndpointRefByURI$1(NettyRpcEnv.scala:148)\n",
      "\tat org.apache.spark.rpc.netty.NettyRpcEnv.$anonfun$asyncSetupEndpointRefByURI$1$adapted(NettyRpcEnv.scala:144)\n",
      "\tat scala.concurrent.Future.$anonfun$flatMap$1(Future.scala:307)\n",
      "\tat scala.concurrent.impl.Promise.$anonfun$transformWith$1(Promise.scala:41)\n",
      "\tat scala.concurrent.impl.CallbackRunnable.run(Promise.scala:64)\n",
      "\tat org.apache.spark.util.ThreadUtils$$anon$1.execute(ThreadUtils.scala:99)\n",
      "\tat scala.concurrent.impl.ExecutionContextImpl$$anon$4.execute(ExecutionContextImpl.scala:138)\n",
      "\tat scala.concurrent.impl.CallbackRunnable.executeWithValue(Promise.scala:72)\n",
      "\tat scala.concurrent.impl.Promise$DefaultPromise.dispatchOrAddCallback(Promise.scala:316)\n",
      "\tat scala.concurrent.impl.Promise$DefaultPromise.onComplete(Promise.scala:307)\n",
      "\tat scala.concurrent.impl.Promise.transformWith(Promise.scala:40)\n",
      "\tat scala.concurrent.impl.Promise.transformWith$(Promise.scala:38)\n",
      "\tat scala.concurrent.impl.Promise$DefaultPromise.transformWith(Promise.scala:187)\n",
      "\tat scala.concurrent.Future.flatMap(Future.scala:306)\n",
      "\tat scala.concurrent.Future.flatMap$(Future.scala:306)\n",
      "\tat scala.concurrent.impl.Promise$DefaultPromise.flatMap(Promise.scala:187)\n",
      "\tat org.apache.spark.rpc.netty.NettyRpcEnv.asyncSetupEndpointRefByURI(NettyRpcEnv.scala:150)\n",
      "\t... 17 more\n"
     ]
    }
   ],
   "source": [
    "from IPython.display import display\n",
    "import ipywidgets as widgets\n",
    "\n",
    "# Map predicted event types to their names\n",
    "event_type_names = {\n",
    "    1: 'Earthquake',\n",
    "    2: 'Hurricane',\n",
    "    3: 'Flood',\n",
    "    4: 'Wildfire',\n",
    "    5: 'Tornado'\n",
    "}\n",
    "\n",
    "# Define colors\n",
    "slider_color='pink'\n",
    "button_color = 'lightblue'\n",
    "\n",
    "# Create widgets for user input with specific styles\n",
    "magnitude_slider = widgets.FloatSlider(value=5.6, min=0, max=10, step=0.1, description=\"Magnitude\", style={'handle_color': 'pink'})\n",
    "casualties_slider = widgets.IntSlider(value=10, min=0, max=100, step=1, description=\"Casualties\", style={'handle_color': 'red'})\n",
    "duration_slider = widgets.IntSlider(value=30, min=0, max=100, step=1, description=\"Duration\", style={'handle_color': 'purple'})\n",
    "response_time_slider = widgets.IntSlider(value=15, min=0, max=100, step=1, description=\"ResTime\", style={'handle_color': 'black'})\n",
    "\n",
    "# Create a button widget with a specific style\n",
    "predict_button = widgets.Button(description=\"Predict\", style={'button_color': button_color})\n",
    "\n",
    "\n",
    "# Define a function to be called when the button is clicked\n",
    "def on_predict_button_click(b):\n",
    "    # Get user input values\n",
    "    magnitude = magnitude_slider.value\n",
    "    casualties = casualties_slider.value\n",
    "    duration = duration_slider.value\n",
    "    response_time = response_time_slider.value\n",
    "\n",
    "    # Create a DataFrame with user input\n",
    "    user_input_df = spark.createDataFrame([(magnitude, casualties, duration, response_time)],\n",
    "                                          ['Magnitude', 'Casualties', 'Duration', 'ResponseTime'])\n",
    "\n",
    "    # Make prediction using the trained model\n",
    "    prediction = int(cv_model.transform(user_input_df).select(\"prediction\").collect()[0][0])\n",
    "\n",
    "    # Print the predicted event type\n",
    "    print(f\"Predicted Event Type: {event_type_names.get(prediction, 'Unknown')}\")\n",
    "\n",
    "# Attach the function to the button's click event\n",
    "predict_button.on_click(on_predict_button_click)\n",
    "\n",
    "# Display the widgets and button\n",
    "display(magnitude_slider, casualties_slider, duration_slider, response_time_slider, predict_button)\n"
   ]
  },
  {
   "cell_type": "markdown",
   "id": "008ed277",
   "metadata": {},
   "source": [
    "## RESPONSE TIME"
   ]
  },
  {
   "cell_type": "code",
   "execution_count": 9,
   "id": "5f6ae7e4",
   "metadata": {},
   "outputs": [
    {
     "name": "stdout",
     "output_type": "stream",
     "text": [
      "Root Mean Squared Error (RMSE) for ResponseTime prediction: 7.456516562150599\n"
     ]
    }
   ],
   "source": [
    "from pyspark.ml.regression import DecisionTreeRegressor\n",
    "from pyspark.ml.evaluation import RegressionEvaluator\n",
    "\n",
    "# Assuming df is your DataFrame\n",
    "assembler_response = VectorAssembler(inputCols=['Magnitude', 'Casualties', 'Duration', 'WarningsIssued'], outputCol='features_response')\n",
    "dt_response = DecisionTreeRegressor(labelCol='ResponseTime', featuresCol='features_response')\n",
    "\n",
    "pipeline_response = Pipeline(stages=[assembler_response, dt_response])\n",
    "\n",
    "# Split the data into training and testing sets\n",
    "(trainingData_response, testData_response) = df.randomSplit([0.8, 0.2], seed=42)\n",
    "\n",
    "# Train the model for ResponseTime prediction\n",
    "model_response = pipeline_response.fit(trainingData_response)\n",
    "\n",
    "# Make predictions on the test data\n",
    "predictions_response = model_response.transform(testData_response)\n",
    "\n",
    "# Evaluate the model\n",
    "evaluator_response = RegressionEvaluator(labelCol='ResponseTime', predictionCol='prediction', metricName='rmse')\n",
    "rmse = evaluator_response.evaluate(predictions_response)\n",
    "print(f\"Root Mean Squared Error (RMSE) for ResponseTime prediction: {rmse}\")\n"
   ]
  },
  {
   "cell_type": "code",
   "execution_count": 10,
   "id": "1daad256",
   "metadata": {},
   "outputs": [
    {
     "name": "stdout",
     "output_type": "stream",
     "text": [
      "Root Mean Squared Error (RMSE) for ResponseTime prediction: 6.831121717782606\n"
     ]
    }
   ],
   "source": [
    "from pyspark.ml.regression import RandomForestRegressor\n",
    "from pyspark.ml.evaluation import RegressionEvaluator\n",
    "\n",
    "# Assuming df is your DataFrame\n",
    "assembler_response = VectorAssembler(inputCols=['Magnitude', 'Casualties', 'Duration', 'WarningsIssued'], outputCol='features_response')\n",
    "rf_response = RandomForestRegressor(labelCol='ResponseTime', featuresCol='features_response', numTrees=100)\n",
    "\n",
    "pipeline_response = Pipeline(stages=[assembler_response, rf_response])\n",
    "\n",
    "# Split the data into training and testing sets\n",
    "(trainingData_response, testData_response) = df.randomSplit([0.8, 0.2], seed=42)\n",
    "\n",
    "# Train the model for ResponseTime prediction\n",
    "model_response = pipeline_response.fit(trainingData_response)\n",
    "\n",
    "# Make predictions on the test data\n",
    "predictions_response = model_response.transform(testData_response)\n",
    "\n",
    "# Evaluate the model\n",
    "evaluator_response = RegressionEvaluator(labelCol='ResponseTime', predictionCol='prediction', metricName='rmse')\n",
    "rmse = evaluator_response.evaluate(predictions_response)\n",
    "print(f\"Root Mean Squared Error (RMSE) for ResponseTime prediction: {rmse}\")\n"
   ]
  },
  {
   "cell_type": "code",
   "execution_count": 11,
   "id": "d32a1cb9",
   "metadata": {},
   "outputs": [
    {
     "name": "stdout",
     "output_type": "stream",
     "text": [
      "Tuned Random Forest RMSE: 6.797840979286011\n"
     ]
    }
   ],
   "source": [
    "from pyspark.ml.tuning import ParamGridBuilder, CrossValidator\n",
    "\n",
    "# Assuming df is your DataFrame\n",
    "assembler_response = VectorAssembler(inputCols=['Magnitude', 'Casualties', 'Duration', 'WarningsIssued'], outputCol='features_response')\n",
    "rf_response = RandomForestRegressor(labelCol='ResponseTime', featuresCol='features_response')\n",
    "\n",
    "pipeline_response = Pipeline(stages=[assembler_response, rf_response])\n",
    "\n",
    "# Split the data into training and testing sets\n",
    "(trainingData_response, testData_response) = df.randomSplit([0.8, 0.2], seed=42)\n",
    "\n",
    "# Define a parameter grid\n",
    "paramGrid_response = ParamGridBuilder().addGrid(rf_response.numTrees, [50, 100, 150]).build()\n",
    "\n",
    "# Create cross-validator\n",
    "crossval_response = CrossValidator(estimator=pipeline_response,\n",
    "                                   estimatorParamMaps=paramGrid_response,\n",
    "                                   evaluator=RegressionEvaluator(labelCol='ResponseTime', predictionCol='prediction', metricName='rmse'),\n",
    "                                   numFolds=3)  # You can adjust the number of folds\n",
    "\n",
    "# Fit the model\n",
    "cv_model_response = crossval_response.fit(trainingData_response)\n",
    "\n",
    "# Make predictions on the test data\n",
    "predictions_response_cv = cv_model_response.transform(testData_response)\n",
    "\n",
    "# Evaluate the model\n",
    "rmse_cv = evaluator_response.evaluate(predictions_response_cv)\n",
    "print(f\"Tuned Random Forest RMSE: {rmse_cv}\")\n"
   ]
  },
  {
   "cell_type": "code",
   "execution_count": 12,
   "id": "127459ab",
   "metadata": {},
   "outputs": [
    {
     "name": "stderr",
     "output_type": "stream",
     "text": [
      "23/12/04 17:39:42 WARN SparkSession: Using an existing Spark session; only runtime SQL configurations will take effect.\n"
     ]
    },
    {
     "name": "stdout",
     "output_type": "stream",
     "text": [
      "+---------+----------+--------+--------------+------------+--------+--------------------+\n",
      "|Magnitude|Casualties|Duration|WarningsIssued|ResponseTime|Location|            DateTime|\n",
      "+---------+----------+--------+--------------+------------+--------+--------------------+\n",
      "|      4.5|       200|      30|             1|        NULL|      US|2023-12-04 17:39:...|\n",
      "|      3.0|       150|      20|             0|        NULL|      US|2023-12-04 17:39:...|\n",
      "|      5.5|       300|      40|             1|        NULL|      US|2023-12-04 17:39:...|\n",
      "+---------+----------+--------+--------------+------------+--------+--------------------+\n",
      "\n",
      "+--------+--------------------+---------+----------+--------+--------------+------------------+\n",
      "|Location|            DateTime|Magnitude|Casualties|Duration|WarningsIssued|        prediction|\n",
      "+--------+--------------------+---------+----------+--------+--------------+------------------+\n",
      "|      US|2023-12-04 17:39:...|      4.5|       200|      30|             1|12.056300157550316|\n",
      "|      US|2023-12-04 17:39:...|      3.0|       150|      20|             0|13.087409475260658|\n",
      "|      US|2023-12-04 17:39:...|      5.5|       300|      40|             1| 11.61815786478509|\n",
      "+--------+--------------------+---------+----------+--------+--------------+------------------+\n",
      "\n"
     ]
    }
   ],
   "source": [
    "from pyspark.sql import SparkSession\n",
    "from pyspark.sql.functions import lit\n",
    "from datetime import datetime\n",
    "\n",
    "# Sample data for new_data\n",
    "new_data = [\n",
    "    (4.5, 200, 30, 1),  # Replace these values with your actual data\n",
    "    (3.0, 150, 20, 0),\n",
    "    (5.5, 300, 40, 1)\n",
    "]\n",
    "\n",
    "# Column names\n",
    "columns = ['Magnitude', 'Casualties', 'Duration', 'WarningsIssued']\n",
    "\n",
    "# Create a Spark session\n",
    "spark = SparkSession.builder.appName(\"NewDataPrediction\").getOrCreate()\n",
    "\n",
    "# Create a DataFrame for new_data\n",
    "new_data_df = spark.createDataFrame(new_data, columns)\n",
    "\n",
    "# Add a placeholder 'ResponseTime' column (since it will be predicted)\n",
    "new_data_df = new_data_df.withColumn('ResponseTime', lit(None).cast('double'))\n",
    "\n",
    "# Assuming you have the 'Location' column as well (replace with actual data)\n",
    "new_data_df = new_data_df.withColumn('Location', lit('US'))\n",
    "\n",
    "# Assuming 'DateTime' is required (replace with actual data)\n",
    "new_data_df = new_data_df.withColumn('DateTime', lit(datetime.now()))\n",
    "\n",
    "# Display the new_data DataFrame\n",
    "new_data_df.show()\n",
    "\n",
    "# Make predictions using the trained model\n",
    "new_data_predictions = model_response.transform(new_data_df)\n",
    "\n",
    "# Display the predictions\n",
    "new_data_predictions.select('Location', 'DateTime', 'Magnitude', 'Casualties', 'Duration', 'WarningsIssued', 'prediction').show()\n"
   ]
  },
  {
   "cell_type": "code",
   "execution_count": 13,
   "id": "60789808",
   "metadata": {},
   "outputs": [
    {
     "data": {
      "application/vnd.jupyter.widget-view+json": {
       "model_id": "1a94ca7f8c9743508bbe969a375eca17",
       "version_major": 2,
       "version_minor": 0
      },
      "text/plain": [
       "FloatSlider(value=5.6, description='Magnitude', max=10.0, style=SliderStyle(handle_color='blue'))"
      ]
     },
     "metadata": {},
     "output_type": "display_data"
    },
    {
     "data": {
      "application/vnd.jupyter.widget-view+json": {
       "model_id": "ac71751280fc4ff0a7825baa01f5687a",
       "version_major": 2,
       "version_minor": 0
      },
      "text/plain": [
       "IntSlider(value=10, description='Casualties', style=SliderStyle(handle_color='green'))"
      ]
     },
     "metadata": {},
     "output_type": "display_data"
    },
    {
     "data": {
      "application/vnd.jupyter.widget-view+json": {
       "model_id": "84b39a07f1b740648756376ee60ec9b2",
       "version_major": 2,
       "version_minor": 0
      },
      "text/plain": [
       "IntSlider(value=30, description='Duration', style=SliderStyle(handle_color='red'))"
      ]
     },
     "metadata": {},
     "output_type": "display_data"
    },
    {
     "data": {
      "application/vnd.jupyter.widget-view+json": {
       "model_id": "17573777dca3419e8a1d1971ba2f79b3",
       "version_major": 2,
       "version_minor": 0
      },
      "text/plain": [
       "IntSlider(value=1, description='Warnings Issued', max=1, style=SliderStyle(handle_color='orange'))"
      ]
     },
     "metadata": {},
     "output_type": "display_data"
    },
    {
     "data": {
      "application/vnd.jupyter.widget-view+json": {
       "model_id": "d1b9310d7c2444e78c7803debf959d85",
       "version_major": 2,
       "version_minor": 0
      },
      "text/plain": [
       "Dropdown(description='Event Type', options=(('Earthquake', 1), ('Hurricane', 2), ('Flood', 3), ('Wildfire', 4)…"
      ]
     },
     "metadata": {},
     "output_type": "display_data"
    },
    {
     "data": {
      "application/vnd.jupyter.widget-view+json": {
       "model_id": "96b6ff3799f347d5ae592b5a831fe6ff",
       "version_major": 2,
       "version_minor": 0
      },
      "text/plain": [
       "Button(description='Predict RT', style=ButtonStyle(button_color='lightblue'))"
      ]
     },
     "metadata": {},
     "output_type": "display_data"
    },
    {
     "name": "stdout",
     "output_type": "stream",
     "text": [
      "Predicted Response Time in Hours: 11.589206822081962\n"
     ]
    },
    {
     "name": "stderr",
     "output_type": "stream",
     "text": [
      "23/12/04 19:11:56 ERROR Inbox: Ignoring error\n",
      "org.apache.spark.SparkException: Exception thrown in awaitResult: \n",
      "\tat org.apache.spark.util.SparkThreadUtils$.awaitResult(SparkThreadUtils.scala:56)\n",
      "\tat org.apache.spark.util.ThreadUtils$.awaitResult(ThreadUtils.scala:310)\n",
      "\tat org.apache.spark.rpc.RpcTimeout.awaitResult(RpcTimeout.scala:75)\n",
      "\tat org.apache.spark.rpc.RpcEnv.setupEndpointRefByURI(RpcEnv.scala:102)\n",
      "\tat org.apache.spark.rpc.RpcEnv.setupEndpointRef(RpcEnv.scala:110)\n",
      "\tat org.apache.spark.util.RpcUtils$.makeDriverRef(RpcUtils.scala:36)\n",
      "\tat org.apache.spark.storage.BlockManagerMasterEndpoint.driverEndpoint$lzycompute(BlockManagerMasterEndpoint.scala:124)\n",
      "\tat org.apache.spark.storage.BlockManagerMasterEndpoint.org$apache$spark$storage$BlockManagerMasterEndpoint$$driverEndpoint(BlockManagerMasterEndpoint.scala:123)\n",
      "\tat org.apache.spark.storage.BlockManagerMasterEndpoint.isExecutorAlive$lzycompute$1(BlockManagerMasterEndpoint.scala:688)\n",
      "\tat org.apache.spark.storage.BlockManagerMasterEndpoint.isExecutorAlive$1(BlockManagerMasterEndpoint.scala:687)\n",
      "\tat org.apache.spark.storage.BlockManagerMasterEndpoint.org$apache$spark$storage$BlockManagerMasterEndpoint$$register(BlockManagerMasterEndpoint.scala:725)\n",
      "\tat org.apache.spark.storage.BlockManagerMasterEndpoint$$anonfun$receiveAndReply$1.applyOrElse(BlockManagerMasterEndpoint.scala:133)\n",
      "\tat org.apache.spark.rpc.netty.Inbox.$anonfun$process$1(Inbox.scala:103)\n",
      "\tat org.apache.spark.rpc.netty.Inbox.safelyCall(Inbox.scala:213)\n",
      "\tat org.apache.spark.rpc.netty.Inbox.process(Inbox.scala:100)\n",
      "\tat org.apache.spark.rpc.netty.MessageLoop.org$apache$spark$rpc$netty$MessageLoop$$receiveLoop(MessageLoop.scala:75)\n",
      "\tat org.apache.spark.rpc.netty.MessageLoop$$anon$1.run(MessageLoop.scala:41)\n",
      "\tat java.util.concurrent.ThreadPoolExecutor.runWorker(ThreadPoolExecutor.java:1149)\n",
      "\tat java.util.concurrent.ThreadPoolExecutor$Worker.run(ThreadPoolExecutor.java:624)\n",
      "\tat java.lang.Thread.run(Thread.java:750)\n",
      "Caused by: org.apache.spark.rpc.RpcEndpointNotFoundException: Cannot find endpoint: spark://CoarseGrainedScheduler@harikas-mbp.lan:51494\n",
      "\tat org.apache.spark.rpc.netty.NettyRpcEnv.$anonfun$asyncSetupEndpointRefByURI$1(NettyRpcEnv.scala:148)\n",
      "\tat org.apache.spark.rpc.netty.NettyRpcEnv.$anonfun$asyncSetupEndpointRefByURI$1$adapted(NettyRpcEnv.scala:144)\n",
      "\tat scala.concurrent.Future.$anonfun$flatMap$1(Future.scala:307)\n",
      "\tat scala.concurrent.impl.Promise.$anonfun$transformWith$1(Promise.scala:41)\n",
      "\tat scala.concurrent.impl.CallbackRunnable.run(Promise.scala:64)\n",
      "\tat org.apache.spark.util.ThreadUtils$$anon$1.execute(ThreadUtils.scala:99)\n",
      "\tat scala.concurrent.impl.ExecutionContextImpl$$anon$4.execute(ExecutionContextImpl.scala:138)\n",
      "\tat scala.concurrent.impl.CallbackRunnable.executeWithValue(Promise.scala:72)\n",
      "\tat scala.concurrent.impl.Promise$DefaultPromise.dispatchOrAddCallback(Promise.scala:316)\n",
      "\tat scala.concurrent.impl.Promise$DefaultPromise.onComplete(Promise.scala:307)\n",
      "\tat scala.concurrent.impl.Promise.transformWith(Promise.scala:40)\n",
      "\tat scala.concurrent.impl.Promise.transformWith$(Promise.scala:38)\n",
      "\tat scala.concurrent.impl.Promise$DefaultPromise.transformWith(Promise.scala:187)\n",
      "\tat scala.concurrent.Future.flatMap(Future.scala:306)\n",
      "\tat scala.concurrent.Future.flatMap$(Future.scala:306)\n",
      "\tat scala.concurrent.impl.Promise$DefaultPromise.flatMap(Promise.scala:187)\n",
      "\tat org.apache.spark.rpc.netty.NettyRpcEnv.asyncSetupEndpointRefByURI(NettyRpcEnv.scala:150)\n",
      "\t... 17 more\n",
      "23/12/04 19:11:56 WARN Executor: Issue communicating with driver in heartbeater\n",
      "org.apache.spark.SparkException: Exception thrown in awaitResult: \n",
      "\tat org.apache.spark.util.SparkThreadUtils$.awaitResult(SparkThreadUtils.scala:56)\n",
      "\tat org.apache.spark.util.ThreadUtils$.awaitResult(ThreadUtils.scala:310)\n",
      "\tat org.apache.spark.rpc.RpcTimeout.awaitResult(RpcTimeout.scala:75)\n",
      "\tat org.apache.spark.rpc.RpcEndpointRef.askSync(RpcEndpointRef.scala:101)\n",
      "\tat org.apache.spark.rpc.RpcEndpointRef.askSync(RpcEndpointRef.scala:85)\n",
      "\tat org.apache.spark.storage.BlockManagerMaster.registerBlockManager(BlockManagerMaster.scala:80)\n",
      "\tat org.apache.spark.storage.BlockManager.reregister(BlockManager.scala:642)\n",
      "\tat org.apache.spark.executor.Executor.reportHeartBeat(Executor.scala:1223)\n",
      "\tat org.apache.spark.executor.Executor.$anonfun$heartbeater$1(Executor.scala:295)\n",
      "\tat scala.runtime.java8.JFunction0$mcV$sp.apply(JFunction0$mcV$sp.java:23)\n",
      "\tat org.apache.spark.util.Utils$.logUncaughtExceptions(Utils.scala:1928)\n",
      "\tat org.apache.spark.Heartbeater$$anon$1.run(Heartbeater.scala:46)\n",
      "\tat java.util.concurrent.Executors$RunnableAdapter.call(Executors.java:511)\n",
      "\tat java.util.concurrent.FutureTask.runAndReset(FutureTask.java:308)\n",
      "\tat java.util.concurrent.ScheduledThreadPoolExecutor$ScheduledFutureTask.access$301(ScheduledThreadPoolExecutor.java:180)\n",
      "\tat java.util.concurrent.ScheduledThreadPoolExecutor$ScheduledFutureTask.run(ScheduledThreadPoolExecutor.java:294)\n",
      "\tat java.util.concurrent.ThreadPoolExecutor.runWorker(ThreadPoolExecutor.java:1149)\n",
      "\tat java.util.concurrent.ThreadPoolExecutor$Worker.run(ThreadPoolExecutor.java:624)\n",
      "\tat java.lang.Thread.run(Thread.java:750)\n",
      "Caused by: org.apache.spark.SparkException: Exception thrown in awaitResult: \n",
      "\tat org.apache.spark.util.SparkThreadUtils$.awaitResult(SparkThreadUtils.scala:56)\n",
      "\tat org.apache.spark.util.ThreadUtils$.awaitResult(ThreadUtils.scala:310)\n",
      "\tat org.apache.spark.rpc.RpcTimeout.awaitResult(RpcTimeout.scala:75)\n",
      "\tat org.apache.spark.rpc.RpcEnv.setupEndpointRefByURI(RpcEnv.scala:102)\n",
      "\tat org.apache.spark.rpc.RpcEnv.setupEndpointRef(RpcEnv.scala:110)\n",
      "\tat org.apache.spark.util.RpcUtils$.makeDriverRef(RpcUtils.scala:36)\n",
      "\tat org.apache.spark.storage.BlockManagerMasterEndpoint.driverEndpoint$lzycompute(BlockManagerMasterEndpoint.scala:124)\n",
      "\tat org.apache.spark.storage.BlockManagerMasterEndpoint.org$apache$spark$storage$BlockManagerMasterEndpoint$$driverEndpoint(BlockManagerMasterEndpoint.scala:123)\n",
      "\tat org.apache.spark.storage.BlockManagerMasterEndpoint.isExecutorAlive$lzycompute$1(BlockManagerMasterEndpoint.scala:688)\n",
      "\tat org.apache.spark.storage.BlockManagerMasterEndpoint.isExecutorAlive$1(BlockManagerMasterEndpoint.scala:687)\n",
      "\tat org.apache.spark.storage.BlockManagerMasterEndpoint.org$apache$spark$storage$BlockManagerMasterEndpoint$$register(BlockManagerMasterEndpoint.scala:725)\n",
      "\tat org.apache.spark.storage.BlockManagerMasterEndpoint$$anonfun$receiveAndReply$1.applyOrElse(BlockManagerMasterEndpoint.scala:133)\n",
      "\tat org.apache.spark.rpc.netty.Inbox.$anonfun$process$1(Inbox.scala:103)\n",
      "\tat org.apache.spark.rpc.netty.Inbox.safelyCall(Inbox.scala:213)\n",
      "\tat org.apache.spark.rpc.netty.Inbox.process(Inbox.scala:100)\n",
      "\tat org.apache.spark.rpc.netty.MessageLoop.org$apache$spark$rpc$netty$MessageLoop$$receiveLoop(MessageLoop.scala:75)\n",
      "\tat org.apache.spark.rpc.netty.MessageLoop$$anon$1.run(MessageLoop.scala:41)\n",
      "\t... 3 more\n",
      "Caused by: org.apache.spark.rpc.RpcEndpointNotFoundException: Cannot find endpoint: spark://CoarseGrainedScheduler@harikas-mbp.lan:51494\n",
      "\tat org.apache.spark.rpc.netty.NettyRpcEnv.$anonfun$asyncSetupEndpointRefByURI$1(NettyRpcEnv.scala:148)\n",
      "\tat org.apache.spark.rpc.netty.NettyRpcEnv.$anonfun$asyncSetupEndpointRefByURI$1$adapted(NettyRpcEnv.scala:144)\n",
      "\tat scala.concurrent.Future.$anonfun$flatMap$1(Future.scala:307)\n",
      "\tat scala.concurrent.impl.Promise.$anonfun$transformWith$1(Promise.scala:41)\n",
      "\tat scala.concurrent.impl.CallbackRunnable.run(Promise.scala:64)\n",
      "\tat org.apache.spark.util.ThreadUtils$$anon$1.execute(ThreadUtils.scala:99)\n",
      "\tat scala.concurrent.impl.ExecutionContextImpl$$anon$4.execute(ExecutionContextImpl.scala:138)\n",
      "\tat scala.concurrent.impl.CallbackRunnable.executeWithValue(Promise.scala:72)\n",
      "\tat scala.concurrent.impl.Promise$DefaultPromise.dispatchOrAddCallback(Promise.scala:316)\n",
      "\tat scala.concurrent.impl.Promise$DefaultPromise.onComplete(Promise.scala:307)\n",
      "\tat scala.concurrent.impl.Promise.transformWith(Promise.scala:40)\n",
      "\tat scala.concurrent.impl.Promise.transformWith$(Promise.scala:38)\n",
      "\tat scala.concurrent.impl.Promise$DefaultPromise.transformWith(Promise.scala:187)\n",
      "\tat scala.concurrent.Future.flatMap(Future.scala:306)\n",
      "\tat scala.concurrent.Future.flatMap$(Future.scala:306)\n",
      "\tat scala.concurrent.impl.Promise$DefaultPromise.flatMap(Promise.scala:187)\n",
      "\tat org.apache.spark.rpc.netty.NettyRpcEnv.asyncSetupEndpointRefByURI(NettyRpcEnv.scala:150)\n",
      "\t... 17 more\n"
     ]
    },
    {
     "name": "stderr",
     "output_type": "stream",
     "text": [
      "23/12/04 19:12:06 WARN Executor: Issue communicating with driver in heartbeater\n",
      "org.apache.spark.SparkException: Exception thrown in awaitResult: \n",
      "\tat org.apache.spark.util.SparkThreadUtils$.awaitResult(SparkThreadUtils.scala:56)\n",
      "\tat org.apache.spark.util.ThreadUtils$.awaitResult(ThreadUtils.scala:310)\n",
      "\tat org.apache.spark.rpc.RpcTimeout.awaitResult(RpcTimeout.scala:75)\n",
      "\tat org.apache.spark.rpc.RpcEndpointRef.askSync(RpcEndpointRef.scala:101)\n",
      "\tat org.apache.spark.rpc.RpcEndpointRef.askSync(RpcEndpointRef.scala:85)\n",
      "\tat org.apache.spark.storage.BlockManagerMaster.registerBlockManager(BlockManagerMaster.scala:80)\n",
      "\tat org.apache.spark.storage.BlockManager.reregister(BlockManager.scala:642)\n",
      "\tat org.apache.spark.executor.Executor.reportHeartBeat(Executor.scala:1223)\n",
      "\tat org.apache.spark.executor.Executor.$anonfun$heartbeater$1(Executor.scala:295)\n",
      "\tat scala.runtime.java8.JFunction0$mcV$sp.apply(JFunction0$mcV$sp.java:23)\n",
      "\tat org.apache.spark.util.Utils$.logUncaughtExceptions(Utils.scala:1928)\n",
      "\tat org.apache.spark.Heartbeater$$anon$1.run(Heartbeater.scala:46)\n",
      "\tat java.util.concurrent.Executors$RunnableAdapter.call(Executors.java:511)\n",
      "\tat java.util.concurrent.FutureTask.runAndReset(FutureTask.java:308)\n",
      "\tat java.util.concurrent.ScheduledThreadPoolExecutor$ScheduledFutureTask.access$301(ScheduledThreadPoolExecutor.java:180)\n",
      "\tat java.util.concurrent.ScheduledThreadPoolExecutor$ScheduledFutureTask.run(ScheduledThreadPoolExecutor.java:294)\n",
      "\tat java.util.concurrent.ThreadPoolExecutor.runWorker(ThreadPoolExecutor.java:1149)\n",
      "\tat java.util.concurrent.ThreadPoolExecutor$Worker.run(ThreadPoolExecutor.java:624)\n",
      "\tat java.lang.Thread.run(Thread.java:750)\n",
      "Caused by: org.apache.spark.SparkException: Exception thrown in awaitResult: \n",
      "\tat org.apache.spark.util.SparkThreadUtils$.awaitResult(SparkThreadUtils.scala:56)\n",
      "\tat org.apache.spark.util.ThreadUtils$.awaitResult(ThreadUtils.scala:310)\n",
      "\tat org.apache.spark.rpc.RpcTimeout.awaitResult(RpcTimeout.scala:75)\n",
      "\tat org.apache.spark.rpc.RpcEnv.setupEndpointRefByURI(RpcEnv.scala:102)\n",
      "\tat org.apache.spark.rpc.RpcEnv.setupEndpointRef(RpcEnv.scala:110)\n",
      "\tat org.apache.spark.util.RpcUtils$.makeDriverRef(RpcUtils.scala:36)\n",
      "\tat org.apache.spark.storage.BlockManagerMasterEndpoint.driverEndpoint$lzycompute(BlockManagerMasterEndpoint.scala:124)\n",
      "\tat org.apache.spark.storage.BlockManagerMasterEndpoint.org$apache$spark$storage$BlockManagerMasterEndpoint$$driverEndpoint(BlockManagerMasterEndpoint.scala:123)\n",
      "\tat org.apache.spark.storage.BlockManagerMasterEndpoint.isExecutorAlive$lzycompute$1(BlockManagerMasterEndpoint.scala:688)\n",
      "\tat org.apache.spark.storage.BlockManagerMasterEndpoint.isExecutorAlive$1(BlockManagerMasterEndpoint.scala:687)\n",
      "\tat org.apache.spark.storage.BlockManagerMasterEndpoint.org$apache$spark$storage$BlockManagerMasterEndpoint$$register(BlockManagerMasterEndpoint.scala:725)\n",
      "\tat org.apache.spark.storage.BlockManagerMasterEndpoint$$anonfun$receiveAndReply$1.applyOrElse(BlockManagerMasterEndpoint.scala:133)\n",
      "\tat org.apache.spark.rpc.netty.Inbox.$anonfun$process$1(Inbox.scala:103)\n",
      "\tat org.apache.spark.rpc.netty.Inbox.safelyCall(Inbox.scala:213)\n",
      "\tat org.apache.spark.rpc.netty.Inbox.process(Inbox.scala:100)\n",
      "\tat org.apache.spark.rpc.netty.MessageLoop.org$apache$spark$rpc$netty$MessageLoop$$receiveLoop(MessageLoop.scala:75)\n",
      "\tat org.apache.spark.rpc.netty.MessageLoop$$anon$1.run(MessageLoop.scala:41)\n",
      "\t... 3 more\n",
      "Caused by: org.apache.spark.rpc.RpcEndpointNotFoundException: Cannot find endpoint: spark://CoarseGrainedScheduler@harikas-mbp.lan:51494\n",
      "\tat org.apache.spark.rpc.netty.NettyRpcEnv.$anonfun$asyncSetupEndpointRefByURI$1(NettyRpcEnv.scala:148)\n",
      "\tat org.apache.spark.rpc.netty.NettyRpcEnv.$anonfun$asyncSetupEndpointRefByURI$1$adapted(NettyRpcEnv.scala:144)\n",
      "\tat scala.concurrent.Future.$anonfun$flatMap$1(Future.scala:307)\n",
      "\tat scala.concurrent.impl.Promise.$anonfun$transformWith$1(Promise.scala:41)\n",
      "\tat scala.concurrent.impl.CallbackRunnable.run(Promise.scala:64)\n",
      "\tat org.apache.spark.util.ThreadUtils$$anon$1.execute(ThreadUtils.scala:99)\n",
      "\tat scala.concurrent.impl.ExecutionContextImpl$$anon$4.execute(ExecutionContextImpl.scala:138)\n",
      "\tat scala.concurrent.impl.CallbackRunnable.executeWithValue(Promise.scala:72)\n",
      "\tat scala.concurrent.impl.Promise$DefaultPromise.dispatchOrAddCallback(Promise.scala:316)\n",
      "\tat scala.concurrent.impl.Promise$DefaultPromise.onComplete(Promise.scala:307)\n",
      "\tat scala.concurrent.impl.Promise.transformWith(Promise.scala:40)\n",
      "\tat scala.concurrent.impl.Promise.transformWith$(Promise.scala:38)\n",
      "\tat scala.concurrent.impl.Promise$DefaultPromise.transformWith(Promise.scala:187)\n",
      "\tat scala.concurrent.Future.flatMap(Future.scala:306)\n",
      "\tat scala.concurrent.Future.flatMap$(Future.scala:306)\n",
      "\tat scala.concurrent.impl.Promise$DefaultPromise.flatMap(Promise.scala:187)\n",
      "\tat org.apache.spark.rpc.netty.NettyRpcEnv.asyncSetupEndpointRefByURI(NettyRpcEnv.scala:150)\n",
      "\t... 17 more\n",
      "23/12/04 19:12:06 ERROR Inbox: Ignoring error\n",
      "org.apache.spark.SparkException: Exception thrown in awaitResult: \n",
      "\tat org.apache.spark.util.SparkThreadUtils$.awaitResult(SparkThreadUtils.scala:56)\n",
      "\tat org.apache.spark.util.ThreadUtils$.awaitResult(ThreadUtils.scala:310)\n",
      "\tat org.apache.spark.rpc.RpcTimeout.awaitResult(RpcTimeout.scala:75)\n",
      "\tat org.apache.spark.rpc.RpcEnv.setupEndpointRefByURI(RpcEnv.scala:102)\n",
      "\tat org.apache.spark.rpc.RpcEnv.setupEndpointRef(RpcEnv.scala:110)\n",
      "\tat org.apache.spark.util.RpcUtils$.makeDriverRef(RpcUtils.scala:36)\n",
      "\tat org.apache.spark.storage.BlockManagerMasterEndpoint.driverEndpoint$lzycompute(BlockManagerMasterEndpoint.scala:124)\n",
      "\tat org.apache.spark.storage.BlockManagerMasterEndpoint.org$apache$spark$storage$BlockManagerMasterEndpoint$$driverEndpoint(BlockManagerMasterEndpoint.scala:123)\n",
      "\tat org.apache.spark.storage.BlockManagerMasterEndpoint.isExecutorAlive$lzycompute$1(BlockManagerMasterEndpoint.scala:688)\n",
      "\tat org.apache.spark.storage.BlockManagerMasterEndpoint.isExecutorAlive$1(BlockManagerMasterEndpoint.scala:687)\n",
      "\tat org.apache.spark.storage.BlockManagerMasterEndpoint.org$apache$spark$storage$BlockManagerMasterEndpoint$$register(BlockManagerMasterEndpoint.scala:725)\n",
      "\tat org.apache.spark.storage.BlockManagerMasterEndpoint$$anonfun$receiveAndReply$1.applyOrElse(BlockManagerMasterEndpoint.scala:133)\n",
      "\tat org.apache.spark.rpc.netty.Inbox.$anonfun$process$1(Inbox.scala:103)\n",
      "\tat org.apache.spark.rpc.netty.Inbox.safelyCall(Inbox.scala:213)\n",
      "\tat org.apache.spark.rpc.netty.Inbox.process(Inbox.scala:100)\n",
      "\tat org.apache.spark.rpc.netty.MessageLoop.org$apache$spark$rpc$netty$MessageLoop$$receiveLoop(MessageLoop.scala:75)\n",
      "\tat org.apache.spark.rpc.netty.MessageLoop$$anon$1.run(MessageLoop.scala:41)\n",
      "\tat java.util.concurrent.ThreadPoolExecutor.runWorker(ThreadPoolExecutor.java:1149)\n",
      "\tat java.util.concurrent.ThreadPoolExecutor$Worker.run(ThreadPoolExecutor.java:624)\n",
      "\tat java.lang.Thread.run(Thread.java:750)\n",
      "Caused by: org.apache.spark.rpc.RpcEndpointNotFoundException: Cannot find endpoint: spark://CoarseGrainedScheduler@harikas-mbp.lan:51494\n",
      "\tat org.apache.spark.rpc.netty.NettyRpcEnv.$anonfun$asyncSetupEndpointRefByURI$1(NettyRpcEnv.scala:148)\n",
      "\tat org.apache.spark.rpc.netty.NettyRpcEnv.$anonfun$asyncSetupEndpointRefByURI$1$adapted(NettyRpcEnv.scala:144)\n",
      "\tat scala.concurrent.Future.$anonfun$flatMap$1(Future.scala:307)\n",
      "\tat scala.concurrent.impl.Promise.$anonfun$transformWith$1(Promise.scala:41)\n",
      "\tat scala.concurrent.impl.CallbackRunnable.run(Promise.scala:64)\n",
      "\tat org.apache.spark.util.ThreadUtils$$anon$1.execute(ThreadUtils.scala:99)\n",
      "\tat scala.concurrent.impl.ExecutionContextImpl$$anon$4.execute(ExecutionContextImpl.scala:138)\n",
      "\tat scala.concurrent.impl.CallbackRunnable.executeWithValue(Promise.scala:72)\n",
      "\tat scala.concurrent.impl.Promise$DefaultPromise.dispatchOrAddCallback(Promise.scala:316)\n",
      "\tat scala.concurrent.impl.Promise$DefaultPromise.onComplete(Promise.scala:307)\n",
      "\tat scala.concurrent.impl.Promise.transformWith(Promise.scala:40)\n",
      "\tat scala.concurrent.impl.Promise.transformWith$(Promise.scala:38)\n",
      "\tat scala.concurrent.impl.Promise$DefaultPromise.transformWith(Promise.scala:187)\n",
      "\tat scala.concurrent.Future.flatMap(Future.scala:306)\n",
      "\tat scala.concurrent.Future.flatMap$(Future.scala:306)\n",
      "\tat scala.concurrent.impl.Promise$DefaultPromise.flatMap(Promise.scala:187)\n",
      "\tat org.apache.spark.rpc.netty.NettyRpcEnv.asyncSetupEndpointRefByURI(NettyRpcEnv.scala:150)\n",
      "\t... 17 more\n"
     ]
    }
   ],
   "source": [
    "from IPython.display import display\n",
    "import ipywidgets as widgets\n",
    "\n",
    "# Create widgets with specific styles\n",
    "magnitude_slider_response = widgets.FloatSlider(value=5.6, min=0, max=10, step=0.1, description=\"Magnitude\", style={'handle_color': 'blue'})\n",
    "casualties_slider_response = widgets.IntSlider(value=10, min=0, max=100, step=1, description=\"Casualties\", style={'handle_color': 'green'})\n",
    "duration_slider_response = widgets.IntSlider(value=30, min=0, max=100, step=1, description=\"Duration\", style={'handle_color': 'red'})\n",
    "warnings_issued_slider_response = widgets.IntSlider(value=1, min=0, max=1, step=1, description=\"Warnings Issued\", style={'handle_color': 'orange'})\n",
    "\n",
    "event_type_dropdown_response = widgets.Dropdown(\n",
    "    options=[('Earthquake', 1), ('Hurricane', 2), ('Flood', 3), ('Wildfire', 4), ('Tornado', 5)],\n",
    "    value=1, description=\"Event Type\", style={'handle_color': 'purple'}\n",
    ")\n",
    "\n",
    "predict_button_response = widgets.Button(description=\"Predict RT\", style={'button_color': 'lightblue'})\n",
    "\n",
    "\n",
    "# Define a function to be called when the button is clicked\n",
    "def on_predict_button_response_click(b):\n",
    "    # Get user input values\n",
    "    magnitude_response = magnitude_slider_response.value\n",
    "    casualties_response = casualties_slider_response.value\n",
    "    duration_response = duration_slider_response.value\n",
    "    warnings_issued_response = warnings_issued_slider_response.value\n",
    "    event_type_response = event_type_dropdown_response.value\n",
    "\n",
    "    # Create a DataFrame with user input\n",
    "    user_input_df_response = spark.createDataFrame([(magnitude_response, casualties_response, duration_response, warnings_issued_response, event_type_response)],\n",
    "                                                   ['Magnitude', 'Casualties', 'Duration', 'WarningsIssued', 'EventType'])\n",
    "\n",
    "    # Make prediction using the trained model\n",
    "    prediction_response = cv_model_response.transform(user_input_df_response).select(\"prediction\").collect()[0][0]\n",
    "\n",
    "    # Print the predicted ResponseTime\n",
    "    print(f\"Predicted Response Time in Hours: {prediction_response}\")\n",
    "\n",
    "# Attach the function to the button's click event\n",
    "predict_button_response.on_click(on_predict_button_response_click)\n",
    "\n",
    "# Display the widgets and button\n",
    "display(magnitude_slider_response, casualties_slider_response, duration_slider_response, warnings_issued_slider_response, event_type_dropdown_response, predict_button_response)"
   ]
  },
  {
   "cell_type": "markdown",
   "id": "22a469d0",
   "metadata": {},
   "source": [
    "#### Model Improvement: \n",
    "\n",
    "1. Cross-Validation: \n",
    "\n",
    "   - Implemented k-fold cross-validation to assess model performance robustly. This technique involves splitting the dataset into k subsets, training the model on k-1 folds, and validating on the remaining fold. Repeated this process k times, ensuring comprehensive assessment and reducing overfitting. \n",
    "\n",
    "  \n",
    "\n",
    "2. Hyperparameter Tuning: \n",
    "\n",
    "   - Conducted hyperparameter tuning for the Random Forest model using PySpark's `CrossValidator` along with a parameter grid. Adjusted the number of trees in the forest to find the optimal configuration, enhancing the model's predictive capabilities and overall accuracy. \n",
    "\n",
    "  \n",
    "\n",
    "3. Feature Engineering: \n",
    "\n",
    "   - Investigated and selected relevant features for model training, discarding any unnecessary or redundant ones. The VectorAssembler was used to create a concise feature vector. By focusing on the most impactful features, we improved model efficiency and prevented noise from affecting predictions. \n",
    "\n",
    "  \n",
    "\n",
    "These strategies collectively contributed to refining the models, resulting in increased accuracy for event prediction and reduced RMSE for response time prediction. Cross-validation ensured the models' generalizability, hyperparameter tuning optimized their configurations, and feature engineering enhanced their predictive power. \n",
    "\n",
    " "
   ]
  },
  {
   "cell_type": "code",
   "execution_count": 14,
   "id": "c6cc8505",
   "metadata": {},
   "outputs": [
    {
     "name": "stdout",
     "output_type": "stream",
     "text": [
      "Requirement already satisfied: seaborn in /Users/harikavajha/anaconda3/lib/python3.11/site-packages (0.12.2)\n",
      "Requirement already satisfied: numpy!=1.24.0,>=1.17 in /Users/harikavajha/anaconda3/lib/python3.11/site-packages (from seaborn) (1.24.3)\n",
      "Requirement already satisfied: pandas>=0.25 in /Users/harikavajha/anaconda3/lib/python3.11/site-packages (from seaborn) (2.0.3)\n",
      "Requirement already satisfied: matplotlib!=3.6.1,>=3.1 in /Users/harikavajha/anaconda3/lib/python3.11/site-packages (from seaborn) (3.7.2)\n",
      "Requirement already satisfied: contourpy>=1.0.1 in /Users/harikavajha/anaconda3/lib/python3.11/site-packages (from matplotlib!=3.6.1,>=3.1->seaborn) (1.0.5)\n",
      "Requirement already satisfied: cycler>=0.10 in /Users/harikavajha/anaconda3/lib/python3.11/site-packages (from matplotlib!=3.6.1,>=3.1->seaborn) (0.11.0)\n",
      "Requirement already satisfied: fonttools>=4.22.0 in /Users/harikavajha/anaconda3/lib/python3.11/site-packages (from matplotlib!=3.6.1,>=3.1->seaborn) (4.25.0)\n",
      "Requirement already satisfied: kiwisolver>=1.0.1 in /Users/harikavajha/anaconda3/lib/python3.11/site-packages (from matplotlib!=3.6.1,>=3.1->seaborn) (1.4.4)\n",
      "Requirement already satisfied: packaging>=20.0 in /Users/harikavajha/anaconda3/lib/python3.11/site-packages (from matplotlib!=3.6.1,>=3.1->seaborn) (23.1)\n",
      "Requirement already satisfied: pillow>=6.2.0 in /Users/harikavajha/anaconda3/lib/python3.11/site-packages (from matplotlib!=3.6.1,>=3.1->seaborn) (9.4.0)\n",
      "Requirement already satisfied: pyparsing<3.1,>=2.3.1 in /Users/harikavajha/anaconda3/lib/python3.11/site-packages (from matplotlib!=3.6.1,>=3.1->seaborn) (3.0.9)\n",
      "Requirement already satisfied: python-dateutil>=2.7 in /Users/harikavajha/anaconda3/lib/python3.11/site-packages (from matplotlib!=3.6.1,>=3.1->seaborn) (2.8.2)\n",
      "Requirement already satisfied: pytz>=2020.1 in /Users/harikavajha/anaconda3/lib/python3.11/site-packages (from pandas>=0.25->seaborn) (2023.3.post1)\n",
      "Requirement already satisfied: tzdata>=2022.1 in /Users/harikavajha/anaconda3/lib/python3.11/site-packages (from pandas>=0.25->seaborn) (2023.3)\n",
      "Requirement already satisfied: six>=1.5 in /Users/harikavajha/anaconda3/lib/python3.11/site-packages (from python-dateutil>=2.7->matplotlib!=3.6.1,>=3.1->seaborn) (1.16.0)\n",
      "Note: you may need to restart the kernel to use updated packages.\n"
     ]
    }
   ],
   "source": [
    "pip install seaborn"
   ]
  },
  {
   "cell_type": "code",
   "execution_count": 15,
   "id": "784515c6",
   "metadata": {
    "scrolled": false
   },
   "outputs": [
    {
     "data": {
      "image/png": "[encoded data removed]",
      "text/plain": [
       "<Figure size 1600x1200 with 6 Axes>"
      ]
     },
     "metadata": {},
     "output_type": "display_data"
    }
   ],
   "source": [
    "import seaborn as sns\n",
    "import matplotlib.pyplot as plt\n",
    "import pandas as pd\n",
    "\n",
    "# Assuming df is your PySpark DataFrame\n",
    "pandas_df = df.toPandas()\n",
    "\n",
    "# Sorting DataFrame by ResponseTime and selecting top 10\n",
    "top_10_response_time = pandas_df.sort_values(by='ResponseTime', ascending=False).head(10)\n",
    "\n",
    "# Plotting graphs for different columns for top 10 events based on ResponseTime\n",
    "plt.figure(figsize=(16, 12))\n",
    "\n",
    "# Distribution of Event Types for top 10\n",
    "plt.subplot(3, 2, 1)\n",
    "sns.countplot(x='EventType', data=top_10_response_time)\n",
    "plt.title('Distribution of Event Types for Top 10 based on ResponseTime')\n",
    "\n",
    "# Distribution of Locations for top 10\n",
    "plt.subplot(3, 2, 2)\n",
    "sns.countplot(x='Location', data=top_10_response_time)\n",
    "plt.title('Distribution of Locations for Top 10 based on ResponseTime')\n",
    "plt.xticks(rotation=45, ha='right')\n",
    "\n",
    "# Magnitude vs. Casualties for top 10\n",
    "plt.subplot(3, 2, 3)\n",
    "sns.scatterplot(x='Magnitude', y='Casualties', data=top_10_response_time)\n",
    "plt.title('Magnitude vs. Casualties for Top 10 based on ResponseTime')\n",
    "\n",
    "# Evacuation Distribution for top 10\n",
    "plt.subplot(3, 2, 4)\n",
    "sns.countplot(x='Evacuation', data=top_10_response_time)\n",
    "plt.title('Distribution of Evacuation for Top 10 based on ResponseTime')\n",
    "\n",
    "# Property Damage Distribution for top 10\n",
    "plt.subplot(3, 2, 5)\n",
    "sns.countplot(x='Duration', data=top_10_response_time)\n",
    "plt.title('Distribution of Duration for Top 10 based on ResponseTime')\n",
    "\n",
    "# Duration vs. Response Time for top 10\n",
    "plt.subplot(3, 2, 6)\n",
    "sns.scatterplot(x='Duration', y='ResponseTime', data=top_10_response_time)\n",
    "plt.title('Duration vs. Response Time for Top 10 based on ResponseTime')\n",
    "\n",
    "plt.tight_layout()\n",
    "plt.show()\n"
   ]
  },
  {
   "cell_type": "markdown",
   "id": "b4a904fe",
   "metadata": {},
   "source": [
    "### Significance: \n",
    "\n",
    "  \n",
    "\n",
    "- Accuracy Insights: \n",
    "\n",
    "  - Accurate event prediction aids in optimizing emergency response strategies. \n",
    "\n",
    "  - Enables informed decision-making for resource allocation and evacuation planning. \n",
    "\n",
    "  \n",
    "\n",
    "- Response Time Optimization: \n",
    "\n",
    "  - Precise response time predictions are crucial for timely and effective interventions during disasters. \n",
    "\n",
    "  - Minimizing RMSE indicates the reliability of our model in estimating response times. \n",
    "\n",
    "  \n",
    "\n",
    "Our approach ensures a comprehensive understanding of both event types and response times, contributing to more effective disaster response and recovery strategies. "
   ]
  }
 ],
 "metadata": {
  "kernelspec": {
   "display_name": "Python 3 (ipykernel)",
   "language": "python",
   "name": "python3"
  },
  "language_info": {
   "codemirror_mode": {
    "name": "ipython",
    "version": 3
   },
   "file_extension": ".py",
   "mimetype": "text/x-python",
   "name": "python",
   "nbconvert_exporter": "python",
   "pygments_lexer": "ipython3",
   "version": "3.11.5"
  }
 },
 "nbformat": 4,
 "nbformat_minor": 5
}
